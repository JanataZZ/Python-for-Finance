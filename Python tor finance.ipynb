{
 "cells": [
  {
   "cell_type": "code",
   "execution_count": 43,
   "id": "4bee98bf",
   "metadata": {},
   "outputs": [],
   "source": [
    "import pandas as pd\n",
    "import numpy as np\n",
    "import matplotlib.pyplot as plt\n",
    "import yfinance as yf\n",
    "from matplotlib import dates"
   ]
  },
  {
   "cell_type": "code",
   "execution_count": 44,
   "id": "05bba0e8",
   "metadata": {},
   "outputs": [
    {
     "name": "stdout",
     "output_type": "stream",
     "text": [
      "[*********************100%***********************]  2 of 2 completed\n"
     ]
    },
    {
     "data": {
      "text/html": [
       "<div>\n",
       "<style scoped>\n",
       "    .dataframe tbody tr th:only-of-type {\n",
       "        vertical-align: middle;\n",
       "    }\n",
       "\n",
       "    .dataframe tbody tr th {\n",
       "        vertical-align: top;\n",
       "    }\n",
       "\n",
       "    .dataframe thead tr th {\n",
       "        text-align: left;\n",
       "    }\n",
       "\n",
       "    .dataframe thead tr:last-of-type th {\n",
       "        text-align: right;\n",
       "    }\n",
       "</style>\n",
       "<table border=\"1\" class=\"dataframe\">\n",
       "  <thead>\n",
       "    <tr>\n",
       "      <th></th>\n",
       "      <th colspan=\"2\" halign=\"left\">Adj Close</th>\n",
       "      <th colspan=\"2\" halign=\"left\">Close</th>\n",
       "      <th colspan=\"2\" halign=\"left\">High</th>\n",
       "      <th colspan=\"2\" halign=\"left\">Low</th>\n",
       "      <th colspan=\"2\" halign=\"left\">Open</th>\n",
       "      <th colspan=\"2\" halign=\"left\">Volume</th>\n",
       "    </tr>\n",
       "    <tr>\n",
       "      <th></th>\n",
       "      <th>AAPL</th>\n",
       "      <th>SPY</th>\n",
       "      <th>AAPL</th>\n",
       "      <th>SPY</th>\n",
       "      <th>AAPL</th>\n",
       "      <th>SPY</th>\n",
       "      <th>AAPL</th>\n",
       "      <th>SPY</th>\n",
       "      <th>AAPL</th>\n",
       "      <th>SPY</th>\n",
       "      <th>AAPL</th>\n",
       "      <th>SPY</th>\n",
       "    </tr>\n",
       "    <tr>\n",
       "      <th>Date</th>\n",
       "      <th></th>\n",
       "      <th></th>\n",
       "      <th></th>\n",
       "      <th></th>\n",
       "      <th></th>\n",
       "      <th></th>\n",
       "      <th></th>\n",
       "      <th></th>\n",
       "      <th></th>\n",
       "      <th></th>\n",
       "      <th></th>\n",
       "      <th></th>\n",
       "    </tr>\n",
       "  </thead>\n",
       "  <tbody>\n",
       "    <tr>\n",
       "      <th>2010-01-04</th>\n",
       "      <td>6.505280</td>\n",
       "      <td>88.117889</td>\n",
       "      <td>7.643214</td>\n",
       "      <td>113.330002</td>\n",
       "      <td>7.660714</td>\n",
       "      <td>113.389999</td>\n",
       "      <td>7.585000</td>\n",
       "      <td>111.510002</td>\n",
       "      <td>7.622500</td>\n",
       "      <td>112.370003</td>\n",
       "      <td>493729600</td>\n",
       "      <td>118944600</td>\n",
       "    </tr>\n",
       "    <tr>\n",
       "      <th>2010-01-05</th>\n",
       "      <td>6.516528</td>\n",
       "      <td>88.351135</td>\n",
       "      <td>7.656429</td>\n",
       "      <td>113.629997</td>\n",
       "      <td>7.699643</td>\n",
       "      <td>113.680000</td>\n",
       "      <td>7.616071</td>\n",
       "      <td>112.849998</td>\n",
       "      <td>7.664286</td>\n",
       "      <td>113.260002</td>\n",
       "      <td>601904800</td>\n",
       "      <td>111579900</td>\n",
       "    </tr>\n",
       "    <tr>\n",
       "      <th>2010-01-06</th>\n",
       "      <td>6.412871</td>\n",
       "      <td>88.413376</td>\n",
       "      <td>7.534643</td>\n",
       "      <td>113.709999</td>\n",
       "      <td>7.686786</td>\n",
       "      <td>113.989998</td>\n",
       "      <td>7.526786</td>\n",
       "      <td>113.430000</td>\n",
       "      <td>7.656429</td>\n",
       "      <td>113.519997</td>\n",
       "      <td>552160000</td>\n",
       "      <td>116074400</td>\n",
       "    </tr>\n",
       "    <tr>\n",
       "      <th>2010-01-07</th>\n",
       "      <td>6.401019</td>\n",
       "      <td>88.786575</td>\n",
       "      <td>7.520714</td>\n",
       "      <td>114.190002</td>\n",
       "      <td>7.571429</td>\n",
       "      <td>114.330002</td>\n",
       "      <td>7.466071</td>\n",
       "      <td>113.180000</td>\n",
       "      <td>7.562500</td>\n",
       "      <td>113.500000</td>\n",
       "      <td>477131200</td>\n",
       "      <td>131091100</td>\n",
       "    </tr>\n",
       "    <tr>\n",
       "      <th>2010-01-08</th>\n",
       "      <td>6.443573</td>\n",
       "      <td>89.082039</td>\n",
       "      <td>7.570714</td>\n",
       "      <td>114.570000</td>\n",
       "      <td>7.571429</td>\n",
       "      <td>114.620003</td>\n",
       "      <td>7.466429</td>\n",
       "      <td>113.660004</td>\n",
       "      <td>7.510714</td>\n",
       "      <td>113.889999</td>\n",
       "      <td>447610800</td>\n",
       "      <td>126402800</td>\n",
       "    </tr>\n",
       "  </tbody>\n",
       "</table>\n",
       "</div>"
      ],
      "text/plain": [
       "           Adj Close                Close                  High              \\\n",
       "                AAPL        SPY      AAPL         SPY      AAPL         SPY   \n",
       "Date                                                                          \n",
       "2010-01-04  6.505280  88.117889  7.643214  113.330002  7.660714  113.389999   \n",
       "2010-01-05  6.516528  88.351135  7.656429  113.629997  7.699643  113.680000   \n",
       "2010-01-06  6.412871  88.413376  7.534643  113.709999  7.686786  113.989998   \n",
       "2010-01-07  6.401019  88.786575  7.520714  114.190002  7.571429  114.330002   \n",
       "2010-01-08  6.443573  89.082039  7.570714  114.570000  7.571429  114.620003   \n",
       "\n",
       "                 Low                  Open                 Volume             \n",
       "                AAPL         SPY      AAPL         SPY       AAPL        SPY  \n",
       "Date                                                                          \n",
       "2010-01-04  7.585000  111.510002  7.622500  112.370003  493729600  118944600  \n",
       "2010-01-05  7.616071  112.849998  7.664286  113.260002  601904800  111579900  \n",
       "2010-01-06  7.526786  113.430000  7.656429  113.519997  552160000  116074400  \n",
       "2010-01-07  7.466071  113.180000  7.562500  113.500000  477131200  131091100  \n",
       "2010-01-08  7.466429  113.660004  7.510714  113.889999  447610800  126402800  "
      ]
     },
     "execution_count": 44,
     "metadata": {},
     "output_type": "execute_result"
    }
   ],
   "source": [
    "raw = yf.download('SPY AAPL', start='2010-01-01', end='2019-12-31')\n",
    "raw.head()"
   ]
  },
  {
   "cell_type": "code",
   "execution_count": 3,
   "id": "b9690c71",
   "metadata": {},
   "outputs": [
    {
     "name": "stdout",
     "output_type": "stream",
     "text": [
      "<class 'pandas.core.frame.DataFrame'>\n",
      "DatetimeIndex: 2515 entries, 2010-01-04 to 2019-12-30\n",
      "Data columns (total 12 columns):\n",
      " #   Column             Non-Null Count  Dtype  \n",
      "---  ------             --------------  -----  \n",
      " 0   (Adj Close, AAPL)  2515 non-null   float64\n",
      " 1   (Adj Close, SPY)   2515 non-null   float64\n",
      " 2   (Close, AAPL)      2515 non-null   float64\n",
      " 3   (Close, SPY)       2515 non-null   float64\n",
      " 4   (High, AAPL)       2515 non-null   float64\n",
      " 5   (High, SPY)        2515 non-null   float64\n",
      " 6   (Low, AAPL)        2515 non-null   float64\n",
      " 7   (Low, SPY)         2515 non-null   float64\n",
      " 8   (Open, AAPL)       2515 non-null   float64\n",
      " 9   (Open, SPY)        2515 non-null   float64\n",
      " 10  (Volume, AAPL)     2515 non-null   int64  \n",
      " 11  (Volume, SPY)      2515 non-null   int64  \n",
      "dtypes: float64(10), int64(2)\n",
      "memory usage: 255.4 KB\n"
     ]
    }
   ],
   "source": [
    "raw.info()\n"
   ]
  },
  {
   "cell_type": "code",
   "execution_count": 6,
   "id": "d7796cab",
   "metadata": {},
   "outputs": [
    {
     "data": {
      "text/plain": [
       "MultiIndex([('Adj Close', 'AAPL'),\n",
       "            ('Adj Close',  'SPY'),\n",
       "            (    'Close', 'AAPL'),\n",
       "            (    'Close',  'SPY'),\n",
       "            (     'High', 'AAPL'),\n",
       "            (     'High',  'SPY'),\n",
       "            (      'Low', 'AAPL'),\n",
       "            (      'Low',  'SPY'),\n",
       "            (     'Open', 'AAPL'),\n",
       "            (     'Open',  'SPY'),\n",
       "            (   'Volume', 'AAPL'),\n",
       "            (   'Volume',  'SPY')],\n",
       "           )"
      ]
     },
     "execution_count": 6,
     "metadata": {},
     "output_type": "execute_result"
    }
   ],
   "source": [
    "raw.columns"
   ]
  },
  {
   "cell_type": "code",
   "execution_count": 61,
   "id": "cb0c022f",
   "metadata": {},
   "outputs": [],
   "source": [
    "raw.pipe?"
   ]
  },
  {
   "cell_type": "code",
   "execution_count": 45,
   "id": "ed9ebe30-8108-4ed9-b044-d46dcee04122",
   "metadata": {},
   "outputs": [
    {
     "data": {
      "text/html": [
       "<div>\n",
       "<style scoped>\n",
       "    .dataframe tbody tr th:only-of-type {\n",
       "        vertical-align: middle;\n",
       "    }\n",
       "\n",
       "    .dataframe tbody tr th {\n",
       "        vertical-align: top;\n",
       "    }\n",
       "\n",
       "    .dataframe thead th {\n",
       "        text-align: right;\n",
       "    }\n",
       "</style>\n",
       "<table border=\"1\" class=\"dataframe\">\n",
       "  <thead>\n",
       "    <tr style=\"text-align: right;\">\n",
       "      <th></th>\n",
       "      <th>Adj Close</th>\n",
       "      <th>Close</th>\n",
       "      <th>High</th>\n",
       "      <th>Low</th>\n",
       "      <th>Open</th>\n",
       "      <th>Volume</th>\n",
       "    </tr>\n",
       "    <tr>\n",
       "      <th>Date</th>\n",
       "      <th></th>\n",
       "      <th></th>\n",
       "      <th></th>\n",
       "      <th></th>\n",
       "      <th></th>\n",
       "      <th></th>\n",
       "    </tr>\n",
       "  </thead>\n",
       "  <tbody>\n",
       "    <tr>\n",
       "      <th>2010-01-04</th>\n",
       "      <td>6.505280</td>\n",
       "      <td>7.643214</td>\n",
       "      <td>7.660714</td>\n",
       "      <td>7.585000</td>\n",
       "      <td>7.622500</td>\n",
       "      <td>493729600</td>\n",
       "    </tr>\n",
       "    <tr>\n",
       "      <th>2010-01-05</th>\n",
       "      <td>6.516528</td>\n",
       "      <td>7.656429</td>\n",
       "      <td>7.699643</td>\n",
       "      <td>7.616071</td>\n",
       "      <td>7.664286</td>\n",
       "      <td>601904800</td>\n",
       "    </tr>\n",
       "    <tr>\n",
       "      <th>2010-01-06</th>\n",
       "      <td>6.412871</td>\n",
       "      <td>7.534643</td>\n",
       "      <td>7.686786</td>\n",
       "      <td>7.526786</td>\n",
       "      <td>7.656429</td>\n",
       "      <td>552160000</td>\n",
       "    </tr>\n",
       "    <tr>\n",
       "      <th>2010-01-07</th>\n",
       "      <td>6.401019</td>\n",
       "      <td>7.520714</td>\n",
       "      <td>7.571429</td>\n",
       "      <td>7.466071</td>\n",
       "      <td>7.562500</td>\n",
       "      <td>477131200</td>\n",
       "    </tr>\n",
       "    <tr>\n",
       "      <th>2010-01-08</th>\n",
       "      <td>6.443573</td>\n",
       "      <td>7.570714</td>\n",
       "      <td>7.571429</td>\n",
       "      <td>7.466429</td>\n",
       "      <td>7.510714</td>\n",
       "      <td>447610800</td>\n",
       "    </tr>\n",
       "    <tr>\n",
       "      <th>...</th>\n",
       "      <td>...</td>\n",
       "      <td>...</td>\n",
       "      <td>...</td>\n",
       "      <td>...</td>\n",
       "      <td>...</td>\n",
       "      <td>...</td>\n",
       "    </tr>\n",
       "    <tr>\n",
       "      <th>2019-12-23</th>\n",
       "      <td>69.451073</td>\n",
       "      <td>71.000000</td>\n",
       "      <td>71.062500</td>\n",
       "      <td>70.092499</td>\n",
       "      <td>70.132500</td>\n",
       "      <td>98572000</td>\n",
       "    </tr>\n",
       "    <tr>\n",
       "      <th>2019-12-24</th>\n",
       "      <td>69.517082</td>\n",
       "      <td>71.067497</td>\n",
       "      <td>71.222504</td>\n",
       "      <td>70.730003</td>\n",
       "      <td>71.172501</td>\n",
       "      <td>48478800</td>\n",
       "    </tr>\n",
       "    <tr>\n",
       "      <th>2019-12-26</th>\n",
       "      <td>70.896332</td>\n",
       "      <td>72.477501</td>\n",
       "      <td>72.495003</td>\n",
       "      <td>71.175003</td>\n",
       "      <td>71.205002</td>\n",
       "      <td>93121200</td>\n",
       "    </tr>\n",
       "    <tr>\n",
       "      <th>2019-12-27</th>\n",
       "      <td>70.869438</td>\n",
       "      <td>72.449997</td>\n",
       "      <td>73.492500</td>\n",
       "      <td>72.029999</td>\n",
       "      <td>72.779999</td>\n",
       "      <td>146266000</td>\n",
       "    </tr>\n",
       "    <tr>\n",
       "      <th>2019-12-30</th>\n",
       "      <td>71.290024</td>\n",
       "      <td>72.879997</td>\n",
       "      <td>73.172501</td>\n",
       "      <td>71.305000</td>\n",
       "      <td>72.364998</td>\n",
       "      <td>144114400</td>\n",
       "    </tr>\n",
       "  </tbody>\n",
       "</table>\n",
       "<p>2515 rows × 6 columns</p>\n",
       "</div>"
      ],
      "text/plain": [
       "            Adj Close      Close       High        Low       Open     Volume\n",
       "Date                                                                        \n",
       "2010-01-04   6.505280   7.643214   7.660714   7.585000   7.622500  493729600\n",
       "2010-01-05   6.516528   7.656429   7.699643   7.616071   7.664286  601904800\n",
       "2010-01-06   6.412871   7.534643   7.686786   7.526786   7.656429  552160000\n",
       "2010-01-07   6.401019   7.520714   7.571429   7.466071   7.562500  477131200\n",
       "2010-01-08   6.443573   7.570714   7.571429   7.466429   7.510714  447610800\n",
       "...               ...        ...        ...        ...        ...        ...\n",
       "2019-12-23  69.451073  71.000000  71.062500  70.092499  70.132500   98572000\n",
       "2019-12-24  69.517082  71.067497  71.222504  70.730003  71.172501   48478800\n",
       "2019-12-26  70.896332  72.477501  72.495003  71.175003  71.205002   93121200\n",
       "2019-12-27  70.869438  72.449997  73.492500  72.029999  72.779999  146266000\n",
       "2019-12-30  71.290024  72.879997  73.172501  71.305000  72.364998  144114400\n",
       "\n",
       "[2515 rows x 6 columns]"
      ]
     },
     "execution_count": 45,
     "metadata": {},
     "output_type": "execute_result"
    }
   ],
   "source": [
    "def fix_cols(df):\n",
    "    columns = df.columns\n",
    "    outer = [col[0] for col in columns]\n",
    "    df.columns = outer\n",
    "    return df\n",
    "\n",
    "(raw\n",
    ".iloc[:,::2]\n",
    ".pipe(fix_cols)\n",
    ")"
   ]
  },
  {
   "cell_type": "code",
   "execution_count": 14,
   "id": "2d3abb4f",
   "metadata": {},
   "outputs": [
    {
     "data": {
      "text/plain": [
       "<AxesSubplot:xlabel='Date'>"
      ]
     },
     "execution_count": 14,
     "metadata": {},
     "output_type": "execute_result"
    },
    {
     "data": {
      "image/png": "[encoded data removed]",
      "text/plain": [
       "<Figure size 432x288 with 1 Axes>"
      ]
     },
     "metadata": {
      "needs_background": "light"
     },
     "output_type": "display_data"
    }
   ],
   "source": [
    "(raw\n",
    " .iloc[:,:-2:2]\n",
    " .pipe(fix_cols)\n",
    " .plot()\n",
    ")"
   ]
  },
  {
   "cell_type": "code",
   "execution_count": 16,
   "id": "3de6b003",
   "metadata": {},
   "outputs": [
    {
     "data": {
      "text/plain": [
       "<AxesSubplot:xlabel='Date'>"
      ]
     },
     "execution_count": 16,
     "metadata": {},
     "output_type": "execute_result"
    },
    {
     "data": {
      "image/png": "[encoded data removed]",
      "text/plain": [
       "<Figure size 432x288 with 1 Axes>"
      ]
     },
     "metadata": {
      "needs_background": "light"
     },
     "output_type": "display_data"
    }
   ],
   "source": [
    "(raw\n",
    ".iloc[:,::2]\n",
    ".pipe(fix_cols)\n",
    ".Close\n",
    ".plot()\n",
    ") "
   ]
  },
  {
   "cell_type": "code",
   "execution_count": 18,
   "id": "f6468ec2",
   "metadata": {},
   "outputs": [
    {
     "data": {
      "text/plain": [
       "<AxesSubplot:xlabel='Date'>"
      ]
     },
     "execution_count": 18,
     "metadata": {},
     "output_type": "execute_result"
    },
    {
     "data": {
      "image/png": "[encoded data removed]",
      "text/plain": [
       "<Figure size 720x144 with 1 Axes>"
      ]
     },
     "metadata": {
      "needs_background": "light"
     },
     "output_type": "display_data"
    }
   ],
   "source": [
    "(raw\n",
    ".iloc[:,::2]\n",
    ".pipe(fix_cols)\n",
    ".Volume\n",
    ".plot(figsize=(10,2))\n",
    ")"
   ]
  },
  {
   "cell_type": "code",
   "execution_count": 22,
   "id": "a2be0267",
   "metadata": {},
   "outputs": [
    {
     "data": {
      "text/plain": [
       "<AxesSubplot:xlabel='Date'>"
      ]
     },
     "execution_count": 22,
     "metadata": {},
     "output_type": "execute_result"
    },
    {
     "data": {
      "image/png": "[encoded data removed]",
      "text/plain": [
       "<Figure size 432x288 with 1 Axes>"
      ]
     },
     "metadata": {
      "needs_background": "light"
     },
     "output_type": "display_data"
    }
   ],
   "source": [
    "(raw\n",
    ".iloc[:,::2]\n",
    ".pipe(fix_cols)\n",
    ".resample('M')\n",
    ".Close\n",
    ".mean()\n",
    ".plot() \n",
    ")"
   ]
  },
  {
   "cell_type": "code",
   "execution_count": 58,
   "id": "67ec7694",
   "metadata": {},
   "outputs": [
    {
     "data": {
      "text/html": [
       "<div>\n",
       "<style scoped>\n",
       "    .dataframe tbody tr th:only-of-type {\n",
       "        vertical-align: middle;\n",
       "    }\n",
       "\n",
       "    .dataframe tbody tr th {\n",
       "        vertical-align: top;\n",
       "    }\n",
       "\n",
       "    .dataframe thead th {\n",
       "        text-align: right;\n",
       "    }\n",
       "</style>\n",
       "<table border=\"1\" class=\"dataframe\">\n",
       "  <thead>\n",
       "    <tr style=\"text-align: right;\">\n",
       "      <th></th>\n",
       "      <th>Open</th>\n",
       "      <th>High</th>\n",
       "      <th>Low</th>\n",
       "      <th>Close</th>\n",
       "    </tr>\n",
       "    <tr>\n",
       "      <th>Date</th>\n",
       "      <th></th>\n",
       "      <th></th>\n",
       "      <th></th>\n",
       "      <th></th>\n",
       "    </tr>\n",
       "  </thead>\n",
       "  <tbody>\n",
       "    <tr>\n",
       "      <th>2018-01-01</th>\n",
       "      <td>NaN</td>\n",
       "      <td>NaN</td>\n",
       "      <td>NaN</td>\n",
       "      <td>NaN</td>\n",
       "    </tr>\n",
       "    <tr>\n",
       "      <th>2018-01-02</th>\n",
       "      <td>42.540001</td>\n",
       "      <td>43.075001</td>\n",
       "      <td>42.314999</td>\n",
       "      <td>43.064999</td>\n",
       "    </tr>\n",
       "    <tr>\n",
       "      <th>2018-01-03</th>\n",
       "      <td>43.132500</td>\n",
       "      <td>43.637501</td>\n",
       "      <td>42.990002</td>\n",
       "      <td>43.057499</td>\n",
       "    </tr>\n",
       "    <tr>\n",
       "      <th>2018-01-04</th>\n",
       "      <td>43.134998</td>\n",
       "      <td>43.367500</td>\n",
       "      <td>43.020000</td>\n",
       "      <td>43.257500</td>\n",
       "    </tr>\n",
       "    <tr>\n",
       "      <th>2018-01-05</th>\n",
       "      <td>43.360001</td>\n",
       "      <td>43.842499</td>\n",
       "      <td>43.262501</td>\n",
       "      <td>43.750000</td>\n",
       "    </tr>\n",
       "    <tr>\n",
       "      <th>...</th>\n",
       "      <td>...</td>\n",
       "      <td>...</td>\n",
       "      <td>...</td>\n",
       "      <td>...</td>\n",
       "    </tr>\n",
       "    <tr>\n",
       "      <th>2018-06-26</th>\n",
       "      <td>45.747501</td>\n",
       "      <td>46.632500</td>\n",
       "      <td>45.634998</td>\n",
       "      <td>46.107498</td>\n",
       "    </tr>\n",
       "    <tr>\n",
       "      <th>2018-06-27</th>\n",
       "      <td>46.307499</td>\n",
       "      <td>46.820000</td>\n",
       "      <td>46.007500</td>\n",
       "      <td>46.040001</td>\n",
       "    </tr>\n",
       "    <tr>\n",
       "      <th>2018-06-28</th>\n",
       "      <td>46.025002</td>\n",
       "      <td>46.552502</td>\n",
       "      <td>45.950001</td>\n",
       "      <td>46.375000</td>\n",
       "    </tr>\n",
       "    <tr>\n",
       "      <th>2018-06-29</th>\n",
       "      <td>46.572498</td>\n",
       "      <td>46.797501</td>\n",
       "      <td>45.727501</td>\n",
       "      <td>46.277500</td>\n",
       "    </tr>\n",
       "    <tr>\n",
       "      <th>2018-06-30</th>\n",
       "      <td>NaN</td>\n",
       "      <td>NaN</td>\n",
       "      <td>NaN</td>\n",
       "      <td>NaN</td>\n",
       "    </tr>\n",
       "  </tbody>\n",
       "</table>\n",
       "<p>181 rows × 4 columns</p>\n",
       "</div>"
      ],
      "text/plain": [
       "                 Open       High        Low      Close\n",
       "Date                                                  \n",
       "2018-01-01        NaN        NaN        NaN        NaN\n",
       "2018-01-02  42.540001  43.075001  42.314999  43.064999\n",
       "2018-01-03  43.132500  43.637501  42.990002  43.057499\n",
       "2018-01-04  43.134998  43.367500  43.020000  43.257500\n",
       "2018-01-05  43.360001  43.842499  43.262501  43.750000\n",
       "...               ...        ...        ...        ...\n",
       "2018-06-26  45.747501  46.632500  45.634998  46.107498\n",
       "2018-06-27  46.307499  46.820000  46.007500  46.040001\n",
       "2018-06-28  46.025002  46.552502  45.950001  46.375000\n",
       "2018-06-29  46.572498  46.797501  45.727501  46.277500\n",
       "2018-06-30        NaN        NaN        NaN        NaN\n",
       "\n",
       "[181 rows x 4 columns]"
      ]
     },
     "execution_count": 58,
     "metadata": {},
     "output_type": "execute_result"
    },
    {
     "data": {
      "text/plain": [
       "<Figure size 720x360 with 1 Axes>"
      ]
     },
     "metadata": {
      "needs_background": "light"
     },
     "output_type": "display_data"
    }
   ],
   "source": [
    "fig, ax = plt.subplots(figsize=(10,5))\n",
    "def plot_candle(df,ax):\n",
    "    #wick\n",
    "    ax.vlines(x=df.index, ymin=df.Low, ymax=df.High, colors='k', linewidth=1)\n",
    "    #red - decrease\n",
    "    red = df.query('Open > Close')\n",
    "    ax.vlines(x=red.index, ymin=red.Close, ymax=red.Open, colors='r', linewidth=3)\n",
    "    #green - increase\n",
    "    green =df.query(\"Open <= Close\")\n",
    "    ax.vlines(x=green.index, ymin=green.Close, ymax=green.Open, colors='g', linewidth=3)\n",
    "    ax.xaxis.set_major_locator(dates.MonthLocator())\n",
    "    ax.xaxis.set_major_formatter(dates.DateFormatter('%b-%y'))\n",
    "    ax.xaxis.set_minor_locator(dates.DateLocator())\n",
    "    return df\n",
    "\n",
    "(raw\n",
    ".iloc[:,::2]\n",
    ".pipe(fix_cols)\n",
    ".resample('d')\n",
    ".agg({'Open':'first',\"High\":'max','Low':'min','Close':'last'})\n",
    ".loc['jan 2018':'jun 2018']\n",
    ".pipe(plot_candle,ax)\n",
    ")\n",
    "    "
   ]
  },
  {
   "cell_type": "code",
   "execution_count": 47,
   "id": "594d96d9",
   "metadata": {},
   "outputs": [
    {
     "data": {
      "image/png": "[encoded data removed]",
      "text/plain": [
       "<Figure size 432x288 with 1 Axes>"
      ]
     },
     "metadata": {
      "needs_background": "light"
     },
     "output_type": "display_data"
    }
   ],
   "source": [
    "(raw\n",
    ".iloc[:,::2]\n",
    ".pipe(fix_cols)\n",
    ".resample('d')\n",
    ".agg({'Open':'first',\"High\":'max','Low':'min','Close':'last'})\n",
    ".loc['jan 2018':'jun 2018']\n",
    ".pipe(plot_candle,ax)\n",
    ".plot() \n",
    ");\n",
    "   "
   ]
  },
  {
   "cell_type": "markdown",
   "id": "f2f31213",
   "metadata": {},
   "source": [
    "# Challenge\n",
    "Plot the Candles for the time period of Sep 2019 to Dec 2019  "
   ]
  },
  {
   "cell_type": "code",
   "execution_count": 57,
   "id": "1dddadb7",
   "metadata": {},
   "outputs": [
    {
     "data": {
      "text/html": [
       "<div>\n",
       "<style scoped>\n",
       "    .dataframe tbody tr th:only-of-type {\n",
       "        vertical-align: middle;\n",
       "    }\n",
       "\n",
       "    .dataframe tbody tr th {\n",
       "        vertical-align: top;\n",
       "    }\n",
       "\n",
       "    .dataframe thead th {\n",
       "        text-align: right;\n",
       "    }\n",
       "</style>\n",
       "<table border=\"1\" class=\"dataframe\">\n",
       "  <thead>\n",
       "    <tr style=\"text-align: right;\">\n",
       "      <th></th>\n",
       "      <th>Open</th>\n",
       "      <th>High</th>\n",
       "      <th>Low</th>\n",
       "      <th>Close</th>\n",
       "    </tr>\n",
       "    <tr>\n",
       "      <th>Date</th>\n",
       "      <th></th>\n",
       "      <th></th>\n",
       "      <th></th>\n",
       "      <th></th>\n",
       "    </tr>\n",
       "  </thead>\n",
       "  <tbody>\n",
       "    <tr>\n",
       "      <th>2019-09-01</th>\n",
       "      <td>NaN</td>\n",
       "      <td>NaN</td>\n",
       "      <td>NaN</td>\n",
       "      <td>NaN</td>\n",
       "    </tr>\n",
       "    <tr>\n",
       "      <th>2019-09-02</th>\n",
       "      <td>NaN</td>\n",
       "      <td>NaN</td>\n",
       "      <td>NaN</td>\n",
       "      <td>NaN</td>\n",
       "    </tr>\n",
       "    <tr>\n",
       "      <th>2019-09-03</th>\n",
       "      <td>51.607498</td>\n",
       "      <td>51.744999</td>\n",
       "      <td>51.055000</td>\n",
       "      <td>51.424999</td>\n",
       "    </tr>\n",
       "    <tr>\n",
       "      <th>2019-09-04</th>\n",
       "      <td>52.097500</td>\n",
       "      <td>52.369999</td>\n",
       "      <td>51.830002</td>\n",
       "      <td>52.297501</td>\n",
       "    </tr>\n",
       "    <tr>\n",
       "      <th>2019-09-05</th>\n",
       "      <td>53.000000</td>\n",
       "      <td>53.492500</td>\n",
       "      <td>52.877499</td>\n",
       "      <td>53.320000</td>\n",
       "    </tr>\n",
       "    <tr>\n",
       "      <th>...</th>\n",
       "      <td>...</td>\n",
       "      <td>...</td>\n",
       "      <td>...</td>\n",
       "      <td>...</td>\n",
       "    </tr>\n",
       "    <tr>\n",
       "      <th>2019-12-26</th>\n",
       "      <td>71.205002</td>\n",
       "      <td>72.495003</td>\n",
       "      <td>71.175003</td>\n",
       "      <td>72.477501</td>\n",
       "    </tr>\n",
       "    <tr>\n",
       "      <th>2019-12-27</th>\n",
       "      <td>72.779999</td>\n",
       "      <td>73.492500</td>\n",
       "      <td>72.029999</td>\n",
       "      <td>72.449997</td>\n",
       "    </tr>\n",
       "    <tr>\n",
       "      <th>2019-12-28</th>\n",
       "      <td>NaN</td>\n",
       "      <td>NaN</td>\n",
       "      <td>NaN</td>\n",
       "      <td>NaN</td>\n",
       "    </tr>\n",
       "    <tr>\n",
       "      <th>2019-12-29</th>\n",
       "      <td>NaN</td>\n",
       "      <td>NaN</td>\n",
       "      <td>NaN</td>\n",
       "      <td>NaN</td>\n",
       "    </tr>\n",
       "    <tr>\n",
       "      <th>2019-12-30</th>\n",
       "      <td>72.364998</td>\n",
       "      <td>73.172501</td>\n",
       "      <td>71.305000</td>\n",
       "      <td>72.879997</td>\n",
       "    </tr>\n",
       "  </tbody>\n",
       "</table>\n",
       "<p>121 rows × 4 columns</p>\n",
       "</div>"
      ],
      "text/plain": [
       "                 Open       High        Low      Close\n",
       "Date                                                  \n",
       "2019-09-01        NaN        NaN        NaN        NaN\n",
       "2019-09-02        NaN        NaN        NaN        NaN\n",
       "2019-09-03  51.607498  51.744999  51.055000  51.424999\n",
       "2019-09-04  52.097500  52.369999  51.830002  52.297501\n",
       "2019-09-05  53.000000  53.492500  52.877499  53.320000\n",
       "...               ...        ...        ...        ...\n",
       "2019-12-26  71.205002  72.495003  71.175003  72.477501\n",
       "2019-12-27  72.779999  73.492500  72.029999  72.449997\n",
       "2019-12-28        NaN        NaN        NaN        NaN\n",
       "2019-12-29        NaN        NaN        NaN        NaN\n",
       "2019-12-30  72.364998  73.172501  71.305000  72.879997\n",
       "\n",
       "[121 rows x 4 columns]"
      ]
     },
     "execution_count": 57,
     "metadata": {},
     "output_type": "execute_result"
    },
    {
     "data": {
      "text/plain": [
       "<Figure size 720x360 with 1 Axes>"
      ]
     },
     "metadata": {
      "needs_background": "light"
     },
     "output_type": "display_data"
    }
   ],
   "source": [
    "fig, ax = plt.subplots(figsize=(10,5))\n",
    "(raw\n",
    ".iloc[:,::2]\n",
    ".pipe(fix_cols)\n",
    ".resample('d')\n",
    ".agg({'Open':'first',\"High\":'max','Low':'min','Close':'last'})\n",
    ".loc['sep 2019':'dec 2019']\n",
    ".pipe(plot_candle,ax)\n",
    ")"
   ]
  },
  {
   "cell_type": "code",
   "execution_count": 60,
   "id": "6f86ae64",
   "metadata": {},
   "outputs": [
    {
     "data": {
      "image/png": "[encoded data removed]",
      "text/plain": [
       "<Figure size 720x360 with 1 Axes>"
      ]
     },
     "metadata": {
      "needs_background": "light"
     },
     "output_type": "display_data"
    }
   ],
   "source": [
    "(raw\n",
    ".iloc[:,::2]\n",
    ".pipe(fix_cols)\n",
    ".resample('M')\n",
    ".agg({'Open':'first',\"High\":'max','Low':'min','Close':'last'})\n",
    ".loc['sep 2019':'dec 2019']\n",
    ".pipe(plot_candle,ax)\n",
    ".plot(figsize=(10,5))\n",
    ");"
   ]
  },
  {
   "cell_type": "code",
   "execution_count": null,
   "id": "d3ec082d",
   "metadata": {},
   "outputs": [],
   "source": [
    "#Returns"
   ]
  },
  {
   "cell_type": "code",
   "execution_count": 62,
   "id": "5cecc68a",
   "metadata": {},
   "outputs": [
    {
     "data": {
      "text/html": [
       "<div>\n",
       "<style scoped>\n",
       "    .dataframe tbody tr th:only-of-type {\n",
       "        vertical-align: middle;\n",
       "    }\n",
       "\n",
       "    .dataframe tbody tr th {\n",
       "        vertical-align: top;\n",
       "    }\n",
       "\n",
       "    .dataframe thead th {\n",
       "        text-align: right;\n",
       "    }\n",
       "</style>\n",
       "<table border=\"1\" class=\"dataframe\">\n",
       "  <thead>\n",
       "    <tr style=\"text-align: right;\">\n",
       "      <th></th>\n",
       "      <th>Adj Close</th>\n",
       "      <th>Close</th>\n",
       "      <th>High</th>\n",
       "      <th>Low</th>\n",
       "      <th>Open</th>\n",
       "      <th>Volume</th>\n",
       "    </tr>\n",
       "    <tr>\n",
       "      <th>Date</th>\n",
       "      <th></th>\n",
       "      <th></th>\n",
       "      <th></th>\n",
       "      <th></th>\n",
       "      <th></th>\n",
       "      <th></th>\n",
       "    </tr>\n",
       "  </thead>\n",
       "  <tbody>\n",
       "    <tr>\n",
       "      <th>2010-01-04</th>\n",
       "      <td>6.505280</td>\n",
       "      <td>7.643214</td>\n",
       "      <td>7.660714</td>\n",
       "      <td>7.585000</td>\n",
       "      <td>7.622500</td>\n",
       "      <td>493729600</td>\n",
       "    </tr>\n",
       "    <tr>\n",
       "      <th>2010-01-05</th>\n",
       "      <td>6.516528</td>\n",
       "      <td>7.656429</td>\n",
       "      <td>7.699643</td>\n",
       "      <td>7.616071</td>\n",
       "      <td>7.664286</td>\n",
       "      <td>601904800</td>\n",
       "    </tr>\n",
       "    <tr>\n",
       "      <th>2010-01-06</th>\n",
       "      <td>6.412871</td>\n",
       "      <td>7.534643</td>\n",
       "      <td>7.686786</td>\n",
       "      <td>7.526786</td>\n",
       "      <td>7.656429</td>\n",
       "      <td>552160000</td>\n",
       "    </tr>\n",
       "    <tr>\n",
       "      <th>2010-01-07</th>\n",
       "      <td>6.401019</td>\n",
       "      <td>7.520714</td>\n",
       "      <td>7.571429</td>\n",
       "      <td>7.466071</td>\n",
       "      <td>7.562500</td>\n",
       "      <td>477131200</td>\n",
       "    </tr>\n",
       "    <tr>\n",
       "      <th>2010-01-08</th>\n",
       "      <td>6.443573</td>\n",
       "      <td>7.570714</td>\n",
       "      <td>7.571429</td>\n",
       "      <td>7.466429</td>\n",
       "      <td>7.510714</td>\n",
       "      <td>447610800</td>\n",
       "    </tr>\n",
       "    <tr>\n",
       "      <th>...</th>\n",
       "      <td>...</td>\n",
       "      <td>...</td>\n",
       "      <td>...</td>\n",
       "      <td>...</td>\n",
       "      <td>...</td>\n",
       "      <td>...</td>\n",
       "    </tr>\n",
       "    <tr>\n",
       "      <th>2019-12-23</th>\n",
       "      <td>69.451073</td>\n",
       "      <td>71.000000</td>\n",
       "      <td>71.062500</td>\n",
       "      <td>70.092499</td>\n",
       "      <td>70.132500</td>\n",
       "      <td>98572000</td>\n",
       "    </tr>\n",
       "    <tr>\n",
       "      <th>2019-12-24</th>\n",
       "      <td>69.517082</td>\n",
       "      <td>71.067497</td>\n",
       "      <td>71.222504</td>\n",
       "      <td>70.730003</td>\n",
       "      <td>71.172501</td>\n",
       "      <td>48478800</td>\n",
       "    </tr>\n",
       "    <tr>\n",
       "      <th>2019-12-26</th>\n",
       "      <td>70.896332</td>\n",
       "      <td>72.477501</td>\n",
       "      <td>72.495003</td>\n",
       "      <td>71.175003</td>\n",
       "      <td>71.205002</td>\n",
       "      <td>93121200</td>\n",
       "    </tr>\n",
       "    <tr>\n",
       "      <th>2019-12-27</th>\n",
       "      <td>70.869438</td>\n",
       "      <td>72.449997</td>\n",
       "      <td>73.492500</td>\n",
       "      <td>72.029999</td>\n",
       "      <td>72.779999</td>\n",
       "      <td>146266000</td>\n",
       "    </tr>\n",
       "    <tr>\n",
       "      <th>2019-12-30</th>\n",
       "      <td>71.290024</td>\n",
       "      <td>72.879997</td>\n",
       "      <td>73.172501</td>\n",
       "      <td>71.305000</td>\n",
       "      <td>72.364998</td>\n",
       "      <td>144114400</td>\n",
       "    </tr>\n",
       "  </tbody>\n",
       "</table>\n",
       "<p>2515 rows × 6 columns</p>\n",
       "</div>"
      ],
      "text/plain": [
       "            Adj Close      Close       High        Low       Open     Volume\n",
       "Date                                                                        \n",
       "2010-01-04   6.505280   7.643214   7.660714   7.585000   7.622500  493729600\n",
       "2010-01-05   6.516528   7.656429   7.699643   7.616071   7.664286  601904800\n",
       "2010-01-06   6.412871   7.534643   7.686786   7.526786   7.656429  552160000\n",
       "2010-01-07   6.401019   7.520714   7.571429   7.466071   7.562500  477131200\n",
       "2010-01-08   6.443573   7.570714   7.571429   7.466429   7.510714  447610800\n",
       "...               ...        ...        ...        ...        ...        ...\n",
       "2019-12-23  69.451073  71.000000  71.062500  70.092499  70.132500   98572000\n",
       "2019-12-24  69.517082  71.067497  71.222504  70.730003  71.172501   48478800\n",
       "2019-12-26  70.896332  72.477501  72.495003  71.175003  71.205002   93121200\n",
       "2019-12-27  70.869438  72.449997  73.492500  72.029999  72.779999  146266000\n",
       "2019-12-30  71.290024  72.879997  73.172501  71.305000  72.364998  144114400\n",
       "\n",
       "[2515 rows x 6 columns]"
      ]
     },
     "execution_count": 62,
     "metadata": {},
     "output_type": "execute_result"
    }
   ],
   "source": [
    "aapl = (raw\n",
    "        .iloc[:,::2]\n",
    "        .pipe(fix_cols)\n",
    "       )\n",
    "\n",
    "aapl\n",
    "        "
   ]
  },
  {
   "cell_type": "code",
   "execution_count": 63,
   "id": "4cc163a2",
   "metadata": {},
   "outputs": [
    {
     "data": {
      "text/html": [
       "<div>\n",
       "<style scoped>\n",
       "    .dataframe tbody tr th:only-of-type {\n",
       "        vertical-align: middle;\n",
       "    }\n",
       "\n",
       "    .dataframe tbody tr th {\n",
       "        vertical-align: top;\n",
       "    }\n",
       "\n",
       "    .dataframe thead th {\n",
       "        text-align: right;\n",
       "    }\n",
       "</style>\n",
       "<table border=\"1\" class=\"dataframe\">\n",
       "  <thead>\n",
       "    <tr style=\"text-align: right;\">\n",
       "      <th></th>\n",
       "      <th>Adj Close</th>\n",
       "      <th>Close</th>\n",
       "      <th>High</th>\n",
       "      <th>Low</th>\n",
       "      <th>Open</th>\n",
       "      <th>Volume</th>\n",
       "    </tr>\n",
       "    <tr>\n",
       "      <th>Date</th>\n",
       "      <th></th>\n",
       "      <th></th>\n",
       "      <th></th>\n",
       "      <th></th>\n",
       "      <th></th>\n",
       "      <th></th>\n",
       "    </tr>\n",
       "  </thead>\n",
       "  <tbody>\n",
       "    <tr>\n",
       "      <th>2010-01-04</th>\n",
       "      <td>NaN</td>\n",
       "      <td>NaN</td>\n",
       "      <td>NaN</td>\n",
       "      <td>NaN</td>\n",
       "      <td>NaN</td>\n",
       "      <td>NaN</td>\n",
       "    </tr>\n",
       "    <tr>\n",
       "      <th>2010-01-05</th>\n",
       "      <td>0.001729</td>\n",
       "      <td>0.001729</td>\n",
       "      <td>0.005082</td>\n",
       "      <td>0.004096</td>\n",
       "      <td>0.005482</td>\n",
       "      <td>0.219098</td>\n",
       "    </tr>\n",
       "    <tr>\n",
       "      <th>2010-01-06</th>\n",
       "      <td>-0.015907</td>\n",
       "      <td>-0.015906</td>\n",
       "      <td>-0.001670</td>\n",
       "      <td>-0.011723</td>\n",
       "      <td>-0.001025</td>\n",
       "      <td>-0.082646</td>\n",
       "    </tr>\n",
       "    <tr>\n",
       "      <th>2010-01-07</th>\n",
       "      <td>-0.001848</td>\n",
       "      <td>-0.001849</td>\n",
       "      <td>-0.015007</td>\n",
       "      <td>-0.008066</td>\n",
       "      <td>-0.012268</td>\n",
       "      <td>-0.135882</td>\n",
       "    </tr>\n",
       "    <tr>\n",
       "      <th>2010-01-08</th>\n",
       "      <td>0.006648</td>\n",
       "      <td>0.006648</td>\n",
       "      <td>0.000000</td>\n",
       "      <td>0.000048</td>\n",
       "      <td>-0.006848</td>\n",
       "      <td>-0.061871</td>\n",
       "    </tr>\n",
       "    <tr>\n",
       "      <th>...</th>\n",
       "      <td>...</td>\n",
       "      <td>...</td>\n",
       "      <td>...</td>\n",
       "      <td>...</td>\n",
       "      <td>...</td>\n",
       "      <td>...</td>\n",
       "    </tr>\n",
       "    <tr>\n",
       "      <th>2019-12-23</th>\n",
       "      <td>0.016319</td>\n",
       "      <td>0.016318</td>\n",
       "      <td>0.005661</td>\n",
       "      <td>0.006498</td>\n",
       "      <td>-0.006023</td>\n",
       "      <td>-0.642827</td>\n",
       "    </tr>\n",
       "    <tr>\n",
       "      <th>2019-12-24</th>\n",
       "      <td>0.000950</td>\n",
       "      <td>0.000951</td>\n",
       "      <td>0.002252</td>\n",
       "      <td>0.009095</td>\n",
       "      <td>0.014829</td>\n",
       "      <td>-0.508189</td>\n",
       "    </tr>\n",
       "    <tr>\n",
       "      <th>2019-12-26</th>\n",
       "      <td>0.019840</td>\n",
       "      <td>0.019840</td>\n",
       "      <td>0.017867</td>\n",
       "      <td>0.006292</td>\n",
       "      <td>0.000457</td>\n",
       "      <td>0.920864</td>\n",
       "    </tr>\n",
       "    <tr>\n",
       "      <th>2019-12-27</th>\n",
       "      <td>-0.000379</td>\n",
       "      <td>-0.000379</td>\n",
       "      <td>0.013760</td>\n",
       "      <td>0.012013</td>\n",
       "      <td>0.022119</td>\n",
       "      <td>0.570706</td>\n",
       "    </tr>\n",
       "    <tr>\n",
       "      <th>2019-12-30</th>\n",
       "      <td>0.005935</td>\n",
       "      <td>0.005935</td>\n",
       "      <td>-0.004354</td>\n",
       "      <td>-0.010065</td>\n",
       "      <td>-0.005702</td>\n",
       "      <td>-0.014710</td>\n",
       "    </tr>\n",
       "  </tbody>\n",
       "</table>\n",
       "<p>2515 rows × 6 columns</p>\n",
       "</div>"
      ],
      "text/plain": [
       "            Adj Close     Close      High       Low      Open    Volume\n",
       "Date                                                                   \n",
       "2010-01-04        NaN       NaN       NaN       NaN       NaN       NaN\n",
       "2010-01-05   0.001729  0.001729  0.005082  0.004096  0.005482  0.219098\n",
       "2010-01-06  -0.015907 -0.015906 -0.001670 -0.011723 -0.001025 -0.082646\n",
       "2010-01-07  -0.001848 -0.001849 -0.015007 -0.008066 -0.012268 -0.135882\n",
       "2010-01-08   0.006648  0.006648  0.000000  0.000048 -0.006848 -0.061871\n",
       "...               ...       ...       ...       ...       ...       ...\n",
       "2019-12-23   0.016319  0.016318  0.005661  0.006498 -0.006023 -0.642827\n",
       "2019-12-24   0.000950  0.000951  0.002252  0.009095  0.014829 -0.508189\n",
       "2019-12-26   0.019840  0.019840  0.017867  0.006292  0.000457  0.920864\n",
       "2019-12-27  -0.000379 -0.000379  0.013760  0.012013  0.022119  0.570706\n",
       "2019-12-30   0.005935  0.005935 -0.004354 -0.010065 -0.005702 -0.014710\n",
       "\n",
       "[2515 rows x 6 columns]"
      ]
     },
     "execution_count": 63,
     "metadata": {},
     "output_type": "execute_result"
    }
   ],
   "source": [
    "aapl.pct_change()"
   ]
  },
  {
   "cell_type": "code",
   "execution_count": 66,
   "id": "b732661c",
   "metadata": {},
   "outputs": [
    {
     "data": {
      "text/plain": [
       "<AxesSubplot:xlabel='Date'>"
      ]
     },
     "execution_count": 66,
     "metadata": {},
     "output_type": "execute_result"
    },
    {
     "data": {
      "image/png": "[encoded data removed]",
      "text/plain": [
       "<Figure size 432x288 with 1 Axes>"
      ]
     },
     "metadata": {
      "needs_background": "light"
     },
     "output_type": "display_data"
    }
   ],
   "source": [
    "# Plot returns\n",
    "(aapl\n",
    " .pct_change()\n",
    " .Close\n",
    " .plot()\n",
    ")"
   ]
  },
  {
   "cell_type": "code",
   "execution_count": 67,
   "id": "683ae05e",
   "metadata": {},
   "outputs": [
    {
     "data": {
      "text/plain": [
       "<AxesSubplot:>"
      ]
     },
     "execution_count": 67,
     "metadata": {},
     "output_type": "execute_result"
    },
    {
     "data": {
      "image/png": "[encoded data removed]",
      "text/plain": [
       "<Figure size 432x288 with 1 Axes>"
      ]
     },
     "metadata": {
      "needs_background": "light"
     },
     "output_type": "display_data"
    }
   ],
   "source": [
    "# Histogram of Returns\n",
    "(aapl\n",
    ".pct_change()\n",
    ".Close\n",
    ".hist()\n",
    ")"
   ]
  },
  {
   "cell_type": "code",
   "execution_count": 68,
   "id": "e8b48244",
   "metadata": {},
   "outputs": [
    {
     "data": {
      "text/plain": [
       "<AxesSubplot:>"
      ]
     },
     "execution_count": 68,
     "metadata": {},
     "output_type": "execute_result"
    },
    {
     "data": {
      "image/png": "[encoded data removed]",
      "text/plain": [
       "<Figure size 432x288 with 1 Axes>"
      ]
     },
     "metadata": {
      "needs_background": "light"
     },
     "output_type": "display_data"
    }
   ],
   "source": [
    "#Change bins\n",
    "(aapl\n",
    ".pct_change()\n",
    ".Close\n",
    ".hist(bins=30)\n",
    ")"
   ]
  },
  {
   "cell_type": "code",
   "execution_count": 71,
   "id": "61939935",
   "metadata": {},
   "outputs": [
    {
     "data": {
      "text/plain": [
       "<AxesSubplot:xlabel='Date'>"
      ]
     },
     "execution_count": 71,
     "metadata": {},
     "output_type": "execute_result"
    },
    {
     "data": {
      "image/png": "[encoded data removed]",
      "text/plain": [
       "<Figure size 432x288 with 1 Axes>"
      ]
     },
     "metadata": {
      "needs_background": "light"
     },
     "output_type": "display_data"
    }
   ],
   "source": [
    "# Bar plot Returns\n",
    "(aapl\n",
    ".pct_change()\n",
    ".Close\n",
    ".iloc[-100:]\n",
    ".plot.bar()\n",
    ")"
   ]
  },
  {
   "cell_type": "code",
   "execution_count": 72,
   "id": "f8651cc2",
   "metadata": {},
   "outputs": [
    {
     "data": {
      "image/png": "[encoded data removed]",
      "text/plain": [
       "<Figure size 720x288 with 1 Axes>"
      ]
     },
     "metadata": {
      "needs_background": "light"
     },
     "output_type": "display_data"
    }
   ],
   "source": [
    "fig, ax = plt.subplots(figsize=(10,4))\n",
    "(aapl\n",
    ".pct_change()\n",
    ".Close\n",
    ".iloc[-100:]\n",
    ".plot.bar(ax=ax)\n",
    ")\n",
    "ax.xaxis.set_major_locator(dates.MonthLocator())\n",
    "ax.xaxis.set_major_formatter(dates.DateFormatter('%b-%y'))\n",
    "ax.xaxis.set_minor_locator(dates.DayLocator())"
   ]
  },
  {
   "cell_type": "code",
   "execution_count": 74,
   "id": "6a25f28d",
   "metadata": {},
   "outputs": [
    {
     "data": {
      "image/png": "[encoded data removed]",
      "text/plain": [
       "<Figure size 720x288 with 1 Axes>"
      ]
     },
     "metadata": {
      "needs_background": "light"
     },
     "output_type": "display_data"
    }
   ],
   "source": [
    "def my_bar(ser,ax):\n",
    "    ax.bar(ser.index,ser)\n",
    "    ax.xaxis.set_major_locator(dates.MonthLocator())\n",
    "    ax.xaxis.set_major_formatter(dates.DateFormatter('%b-%y'))\n",
    "    ax.xaxis.set_minor_locator(dates.DayLocator())\n",
    "    return ser\n",
    "\n",
    "fig, ax = plt.subplots(figsize=(10,4))\n",
    "_ = (aapl\n",
    ".pct_change()\n",
    ".Close\n",
    ".iloc[-100:]\n",
    ".pipe(my_bar,ax)\n",
    ")"
   ]
  },
  {
   "cell_type": "code",
   "execution_count": null,
   "id": "cd2a9ef6",
   "metadata": {},
   "outputs": [],
   "source": [
    "# Cumulative Returns\n",
    "# Cumulative returns is the amount that investment has gained or lost over time:\n",
    "# (current price - original price)/original price"
   ]
  },
  {
   "cell_type": "code",
   "execution_count": 75,
   "id": "4c955dcc",
   "metadata": {},
   "outputs": [
    {
     "data": {
      "text/plain": [
       "<AxesSubplot:xlabel='Date'>"
      ]
     },
     "execution_count": 75,
     "metadata": {},
     "output_type": "execute_result"
    },
    {
     "data": {
      "image/png": "[encoded data removed]",
      "text/plain": [
       "<Figure size 432x288 with 1 Axes>"
      ]
     },
     "metadata": {
      "needs_background": "light"
     },
     "output_type": "display_data"
    }
   ],
   "source": [
    "(aapl\n",
    ".Close\n",
    ".plot()\n",
    ")"
   ]
  },
  {
   "cell_type": "code",
   "execution_count": 76,
   "id": "9b3caed2",
   "metadata": {},
   "outputs": [
    {
     "data": {
      "text/plain": [
       "<AxesSubplot:xlabel='Date'>"
      ]
     },
     "execution_count": 76,
     "metadata": {},
     "output_type": "execute_result"
    },
    {
     "data": {
      "image/png": "[encoded data removed]",
      "text/plain": [
       "<Figure size 432x288 with 1 Axes>"
      ]
     },
     "metadata": {
      "needs_background": "light"
     },
     "output_type": "display_data"
    }
   ],
   "source": [
    "(aapl\n",
    ".Close\n",
    ".sub(aapl.Close[0])\n",
    ".div(aapl.Close[0])\n",
    ".plot()\n",
    ")"
   ]
  },
  {
   "cell_type": "code",
   "execution_count": 77,
   "id": "cf5f596b",
   "metadata": {},
   "outputs": [
    {
     "data": {
      "text/plain": [
       "<AxesSubplot:xlabel='Date'>"
      ]
     },
     "execution_count": 77,
     "metadata": {},
     "output_type": "execute_result"
    },
    {
     "data": {
      "image/png": "[encoded data removed]",
      "text/plain": [
       "<Figure size 432x288 with 1 Axes>"
      ]
     },
     "metadata": {
      "needs_background": "light"
     },
     "output_type": "display_data"
    }
   ],
   "source": [
    "# alternate calculation\n",
    "(aapl\n",
    ".Close\n",
    ".pct_change()\n",
    ".add(1)\n",
    ".cumprod()\n",
    ".sub(1)\n",
    ".plot()\n",
    ")"
   ]
  },
  {
   "cell_type": "code",
   "execution_count": 78,
   "id": "b92c83c7",
   "metadata": {},
   "outputs": [
    {
     "data": {
      "text/plain": [
       "<AxesSubplot:xlabel='Date'>"
      ]
     },
     "execution_count": 78,
     "metadata": {},
     "output_type": "execute_result"
    },
    {
     "data": {
      "image/png": "[encoded data removed]",
      "text/plain": [
       "<Figure size 432x288 with 1 Axes>"
      ]
     },
     "metadata": {
      "needs_background": "light"
     },
     "output_type": "display_data"
    }
   ],
   "source": [
    "# create a function for calculating\n",
    "def calc_cum_returns(df,col):\n",
    "    ser = df[col]\n",
    "    return (ser\n",
    "            .sub(ser[0])\n",
    "            .div(ser[0])\n",
    "           )\n",
    "\n",
    "(aapl\n",
    ".pipe(calc_cum_returns,'Close')\n",
    ".plot()\n",
    ")"
   ]
  },
  {
   "cell_type": "code",
   "execution_count": 79,
   "id": "f8a9ca23",
   "metadata": {},
   "outputs": [
    {
     "data": {
      "text/plain": [
       "Date\n",
       "2010-01-04    0.000000\n",
       "2010-01-05    0.001729\n",
       "2010-01-06   -0.014205\n",
       "2010-01-07   -0.016027\n",
       "2010-01-08   -0.009486\n",
       "                ...   \n",
       "2019-12-23    8.289286\n",
       "2019-12-24    8.298117\n",
       "2019-12-26    8.482594\n",
       "2019-12-27    8.478996\n",
       "2019-12-30    8.535255\n",
       "Name: Close, Length: 2515, dtype: float64"
      ]
     },
     "execution_count": 79,
     "metadata": {},
     "output_type": "execute_result"
    }
   ],
   "source": [
    "# lambda is an 'anonymous function'\n",
    "def get_returns(df):\n",
    "    return calc_cum_returns(df, 'Close')\n",
    "\n",
    "get_returns(aapl)"
   ]
  },
  {
   "cell_type": "code",
   "execution_count": 80,
   "id": "2e7d4752",
   "metadata": {},
   "outputs": [
    {
     "data": {
      "text/plain": [
       "Date\n",
       "2010-01-04    0.000000\n",
       "2010-01-05    0.001729\n",
       "2010-01-06   -0.014205\n",
       "2010-01-07   -0.016027\n",
       "2010-01-08   -0.009486\n",
       "                ...   \n",
       "2019-12-23    8.289286\n",
       "2019-12-24    8.298117\n",
       "2019-12-26    8.482594\n",
       "2019-12-27    8.478996\n",
       "2019-12-30    8.535255\n",
       "Name: Close, Length: 2515, dtype: float64"
      ]
     },
     "execution_count": 80,
     "metadata": {},
     "output_type": "execute_result"
    }
   ],
   "source": [
    "(lambda df: get_returns(df))(aapl)"
   ]
  },
  {
   "cell_type": "code",
   "execution_count": 83,
   "id": "8ee88819",
   "metadata": {},
   "outputs": [
    {
     "data": {
      "text/html": [
       "<div>\n",
       "<style scoped>\n",
       "    .dataframe tbody tr th:only-of-type {\n",
       "        vertical-align: middle;\n",
       "    }\n",
       "\n",
       "    .dataframe tbody tr th {\n",
       "        vertical-align: top;\n",
       "    }\n",
       "\n",
       "    .dataframe thead th {\n",
       "        text-align: right;\n",
       "    }\n",
       "</style>\n",
       "<table border=\"1\" class=\"dataframe\">\n",
       "  <thead>\n",
       "    <tr style=\"text-align: right;\">\n",
       "      <th></th>\n",
       "      <th>Adj Close</th>\n",
       "      <th>Close</th>\n",
       "      <th>High</th>\n",
       "      <th>Low</th>\n",
       "      <th>Open</th>\n",
       "      <th>Volume</th>\n",
       "      <th>cum_returns</th>\n",
       "    </tr>\n",
       "    <tr>\n",
       "      <th>Date</th>\n",
       "      <th></th>\n",
       "      <th></th>\n",
       "      <th></th>\n",
       "      <th></th>\n",
       "      <th></th>\n",
       "      <th></th>\n",
       "      <th></th>\n",
       "    </tr>\n",
       "  </thead>\n",
       "  <tbody>\n",
       "    <tr>\n",
       "      <th>2010-01-04</th>\n",
       "      <td>6.505280</td>\n",
       "      <td>7.643214</td>\n",
       "      <td>7.660714</td>\n",
       "      <td>7.585000</td>\n",
       "      <td>7.622500</td>\n",
       "      <td>493729600</td>\n",
       "      <td>0.000000</td>\n",
       "    </tr>\n",
       "    <tr>\n",
       "      <th>2010-01-05</th>\n",
       "      <td>6.516528</td>\n",
       "      <td>7.656429</td>\n",
       "      <td>7.699643</td>\n",
       "      <td>7.616071</td>\n",
       "      <td>7.664286</td>\n",
       "      <td>601904800</td>\n",
       "      <td>0.001729</td>\n",
       "    </tr>\n",
       "    <tr>\n",
       "      <th>2010-01-06</th>\n",
       "      <td>6.412871</td>\n",
       "      <td>7.534643</td>\n",
       "      <td>7.686786</td>\n",
       "      <td>7.526786</td>\n",
       "      <td>7.656429</td>\n",
       "      <td>552160000</td>\n",
       "      <td>-0.014205</td>\n",
       "    </tr>\n",
       "    <tr>\n",
       "      <th>2010-01-07</th>\n",
       "      <td>6.401019</td>\n",
       "      <td>7.520714</td>\n",
       "      <td>7.571429</td>\n",
       "      <td>7.466071</td>\n",
       "      <td>7.562500</td>\n",
       "      <td>477131200</td>\n",
       "      <td>-0.016027</td>\n",
       "    </tr>\n",
       "    <tr>\n",
       "      <th>2010-01-08</th>\n",
       "      <td>6.443573</td>\n",
       "      <td>7.570714</td>\n",
       "      <td>7.571429</td>\n",
       "      <td>7.466429</td>\n",
       "      <td>7.510714</td>\n",
       "      <td>447610800</td>\n",
       "      <td>-0.009486</td>\n",
       "    </tr>\n",
       "    <tr>\n",
       "      <th>...</th>\n",
       "      <td>...</td>\n",
       "      <td>...</td>\n",
       "      <td>...</td>\n",
       "      <td>...</td>\n",
       "      <td>...</td>\n",
       "      <td>...</td>\n",
       "      <td>...</td>\n",
       "    </tr>\n",
       "    <tr>\n",
       "      <th>2019-12-23</th>\n",
       "      <td>69.451073</td>\n",
       "      <td>71.000000</td>\n",
       "      <td>71.062500</td>\n",
       "      <td>70.092499</td>\n",
       "      <td>70.132500</td>\n",
       "      <td>98572000</td>\n",
       "      <td>8.289286</td>\n",
       "    </tr>\n",
       "    <tr>\n",
       "      <th>2019-12-24</th>\n",
       "      <td>69.517082</td>\n",
       "      <td>71.067497</td>\n",
       "      <td>71.222504</td>\n",
       "      <td>70.730003</td>\n",
       "      <td>71.172501</td>\n",
       "      <td>48478800</td>\n",
       "      <td>8.298117</td>\n",
       "    </tr>\n",
       "    <tr>\n",
       "      <th>2019-12-26</th>\n",
       "      <td>70.896332</td>\n",
       "      <td>72.477501</td>\n",
       "      <td>72.495003</td>\n",
       "      <td>71.175003</td>\n",
       "      <td>71.205002</td>\n",
       "      <td>93121200</td>\n",
       "      <td>8.482594</td>\n",
       "    </tr>\n",
       "    <tr>\n",
       "      <th>2019-12-27</th>\n",
       "      <td>70.869438</td>\n",
       "      <td>72.449997</td>\n",
       "      <td>73.492500</td>\n",
       "      <td>72.029999</td>\n",
       "      <td>72.779999</td>\n",
       "      <td>146266000</td>\n",
       "      <td>8.478996</td>\n",
       "    </tr>\n",
       "    <tr>\n",
       "      <th>2019-12-30</th>\n",
       "      <td>71.290024</td>\n",
       "      <td>72.879997</td>\n",
       "      <td>73.172501</td>\n",
       "      <td>71.305000</td>\n",
       "      <td>72.364998</td>\n",
       "      <td>144114400</td>\n",
       "      <td>8.535255</td>\n",
       "    </tr>\n",
       "  </tbody>\n",
       "</table>\n",
       "<p>2515 rows × 7 columns</p>\n",
       "</div>"
      ],
      "text/plain": [
       "            Adj Close      Close       High        Low       Open     Volume  \\\n",
       "Date                                                                           \n",
       "2010-01-04   6.505280   7.643214   7.660714   7.585000   7.622500  493729600   \n",
       "2010-01-05   6.516528   7.656429   7.699643   7.616071   7.664286  601904800   \n",
       "2010-01-06   6.412871   7.534643   7.686786   7.526786   7.656429  552160000   \n",
       "2010-01-07   6.401019   7.520714   7.571429   7.466071   7.562500  477131200   \n",
       "2010-01-08   6.443573   7.570714   7.571429   7.466429   7.510714  447610800   \n",
       "...               ...        ...        ...        ...        ...        ...   \n",
       "2019-12-23  69.451073  71.000000  71.062500  70.092499  70.132500   98572000   \n",
       "2019-12-24  69.517082  71.067497  71.222504  70.730003  71.172501   48478800   \n",
       "2019-12-26  70.896332  72.477501  72.495003  71.175003  71.205002   93121200   \n",
       "2019-12-27  70.869438  72.449997  73.492500  72.029999  72.779999  146266000   \n",
       "2019-12-30  71.290024  72.879997  73.172501  71.305000  72.364998  144114400   \n",
       "\n",
       "            cum_returns  \n",
       "Date                     \n",
       "2010-01-04     0.000000  \n",
       "2010-01-05     0.001729  \n",
       "2010-01-06    -0.014205  \n",
       "2010-01-07    -0.016027  \n",
       "2010-01-08    -0.009486  \n",
       "...                 ...  \n",
       "2019-12-23     8.289286  \n",
       "2019-12-24     8.298117  \n",
       "2019-12-26     8.482594  \n",
       "2019-12-27     8.478996  \n",
       "2019-12-30     8.535255  \n",
       "\n",
       "[2515 rows x 7 columns]"
      ]
     },
     "execution_count": 83,
     "metadata": {},
     "output_type": "execute_result"
    }
   ],
   "source": [
    "# Create a new column\n",
    "(aapl\n",
    ".assign(cum_returns=lambda df:calc_cum_returns(df,'Close'))\n",
    ")"
   ]
  },
  {
   "cell_type": "code",
   "execution_count": 84,
   "id": "0920c80e",
   "metadata": {},
   "outputs": [
    {
     "data": {
      "image/png": "[encoded data removed]",
      "text/plain": [
       "<Figure size 720x288 with 1 Axes>"
      ]
     },
     "metadata": {
      "needs_background": "light"
     },
     "output_type": "display_data"
    }
   ],
   "source": [
    "def my_bar(ser,ax):\n",
    "    ax.bar(ser.index,ser)\n",
    "    ax.xaxis.set_major_locator(dates.MonthLocator())\n",
    "    ax.xaxis.set_major_formatter(dates.DateFormatter('%b-%y'))\n",
    "    ax.xaxis.set_minor_locator(dates.DayLocator())\n",
    "    return ser\n",
    "\n",
    "fig, ax = plt.subplots(figsize=(10,4))\n",
    "_ = (aapl\n",
    ".pipe(calc_cum_returns, \"Close\")\n",
    ".iloc[-100:]\n",
    ".pipe(my_bar,ax)\n",
    ")"
   ]
  },
  {
   "cell_type": "code",
   "execution_count": null,
   "id": "d4c7320b",
   "metadata": {},
   "outputs": [],
   "source": [
    "#Volatility"
   ]
  },
  {
   "cell_type": "code",
   "execution_count": 85,
   "id": "983f1b37",
   "metadata": {},
   "outputs": [
    {
     "data": {
      "text/plain": [
       "27.568102107796943"
      ]
     },
     "execution_count": 85,
     "metadata": {},
     "output_type": "execute_result"
    }
   ],
   "source": [
    "(aapl\n",
    ".Close\n",
    ".mean()\n",
    ")"
   ]
  },
  {
   "cell_type": "code",
   "execution_count": 86,
   "id": "131d20ee",
   "metadata": {},
   "outputs": [
    {
     "data": {
      "text/plain": [
       "14.016253049378737"
      ]
     },
     "execution_count": 86,
     "metadata": {},
     "output_type": "execute_result"
    }
   ],
   "source": [
    "(aapl\n",
    ".Close\n",
    ".std()\n",
    ")"
   ]
  },
  {
   "cell_type": "code",
   "execution_count": 88,
   "id": "78576fa4",
   "metadata": {},
   "outputs": [
    {
     "data": {
      "text/plain": [
       "0.01623613318144792"
      ]
     },
     "execution_count": 88,
     "metadata": {},
     "output_type": "execute_result"
    }
   ],
   "source": [
    "(aapl\n",
    ".assign(pct_change_close=aapl.Close.pct_change())\n",
    ".pct_change_close\n",
    ".std()\n",
    ")"
   ]
  },
  {
   "cell_type": "code",
   "execution_count": 93,
   "id": "d7ea0a59",
   "metadata": {},
   "outputs": [
    {
     "data": {
      "image/png": "[encoded data removed]",
      "text/plain": [
       "<Figure size 432x288 with 2 Axes>"
      ]
     },
     "metadata": {
      "needs_background": "light"
     },
     "output_type": "display_data"
    }
   ],
   "source": [
    "(aapl\n",
    ".assign(close_vol=aapl.rolling(30).Close.std(),\n",
    "        per_vol=aapl.Close.pct_change().rolling(30).std())\n",
    ".iloc[:,-2:]\n",
    ".plot(subplots=True)\n",
    ");"
   ]
  },
  {
   "cell_type": "code",
   "execution_count": 94,
   "id": "1e69d2ed",
   "metadata": {},
   "outputs": [
    {
     "data": {
      "text/html": [
       "<div>\n",
       "<style scoped>\n",
       "    .dataframe tbody tr th:only-of-type {\n",
       "        vertical-align: middle;\n",
       "    }\n",
       "\n",
       "    .dataframe tbody tr th {\n",
       "        vertical-align: top;\n",
       "    }\n",
       "\n",
       "    .dataframe thead th {\n",
       "        text-align: right;\n",
       "    }\n",
       "</style>\n",
       "<table border=\"1\" class=\"dataframe\">\n",
       "  <thead>\n",
       "    <tr style=\"text-align: right;\">\n",
       "      <th></th>\n",
       "      <th>Adj Close</th>\n",
       "      <th>Close</th>\n",
       "      <th>High</th>\n",
       "      <th>Low</th>\n",
       "      <th>Open</th>\n",
       "      <th>Volume</th>\n",
       "      <th>pct_change_close</th>\n",
       "    </tr>\n",
       "    <tr>\n",
       "      <th>Date</th>\n",
       "      <th></th>\n",
       "      <th></th>\n",
       "      <th></th>\n",
       "      <th></th>\n",
       "      <th></th>\n",
       "      <th></th>\n",
       "      <th></th>\n",
       "    </tr>\n",
       "  </thead>\n",
       "  <tbody>\n",
       "    <tr>\n",
       "      <th>2010-01-04</th>\n",
       "      <td>0.078267</td>\n",
       "      <td>0.091958</td>\n",
       "      <td>0.072060</td>\n",
       "      <td>0.101749</td>\n",
       "      <td>0.080372</td>\n",
       "      <td>7.028347e+07</td>\n",
       "      <td>0.010383</td>\n",
       "    </tr>\n",
       "    <tr>\n",
       "      <th>2010-01-19</th>\n",
       "      <td>0.227369</td>\n",
       "      <td>0.267141</td>\n",
       "      <td>0.253188</td>\n",
       "      <td>0.232856</td>\n",
       "      <td>0.234097</td>\n",
       "      <td>4.361002e+08</td>\n",
       "      <td>0.030046</td>\n",
       "    </tr>\n",
       "    <tr>\n",
       "      <th>2010-02-03</th>\n",
       "      <td>0.113359</td>\n",
       "      <td>0.133188</td>\n",
       "      <td>0.102614</td>\n",
       "      <td>0.124059</td>\n",
       "      <td>0.123349</td>\n",
       "      <td>1.455474e+08</td>\n",
       "      <td>0.017088</td>\n",
       "    </tr>\n",
       "    <tr>\n",
       "      <th>2010-02-18</th>\n",
       "      <td>0.137291</td>\n",
       "      <td>0.161306</td>\n",
       "      <td>0.138608</td>\n",
       "      <td>0.166270</td>\n",
       "      <td>0.157960</td>\n",
       "      <td>9.844200e+07</td>\n",
       "      <td>0.011254</td>\n",
       "    </tr>\n",
       "    <tr>\n",
       "      <th>2010-03-05</th>\n",
       "      <td>0.074477</td>\n",
       "      <td>0.087505</td>\n",
       "      <td>0.088090</td>\n",
       "      <td>0.113449</td>\n",
       "      <td>0.129484</td>\n",
       "      <td>1.951401e+08</td>\n",
       "      <td>0.014002</td>\n",
       "    </tr>\n",
       "    <tr>\n",
       "      <th>...</th>\n",
       "      <td>...</td>\n",
       "      <td>...</td>\n",
       "      <td>...</td>\n",
       "      <td>...</td>\n",
       "      <td>...</td>\n",
       "      <td>...</td>\n",
       "      <td>...</td>\n",
       "    </tr>\n",
       "    <tr>\n",
       "      <th>2019-10-29</th>\n",
       "      <td>1.748351</td>\n",
       "      <td>1.725581</td>\n",
       "      <td>1.449098</td>\n",
       "      <td>2.018594</td>\n",
       "      <td>1.418779</td>\n",
       "      <td>2.960150e+07</td>\n",
       "      <td>0.013412</td>\n",
       "    </tr>\n",
       "    <tr>\n",
       "      <th>2019-11-13</th>\n",
       "      <td>0.516257</td>\n",
       "      <td>0.527773</td>\n",
       "      <td>0.404718</td>\n",
       "      <td>0.436709</td>\n",
       "      <td>0.509585</td>\n",
       "      <td>1.787058e+07</td>\n",
       "      <td>0.009868</td>\n",
       "    </tr>\n",
       "    <tr>\n",
       "      <th>2019-11-28</th>\n",
       "      <td>0.977060</td>\n",
       "      <td>0.998849</td>\n",
       "      <td>1.019784</td>\n",
       "      <td>0.918851</td>\n",
       "      <td>0.936544</td>\n",
       "      <td>2.826525e+07</td>\n",
       "      <td>0.012526</td>\n",
       "    </tr>\n",
       "    <tr>\n",
       "      <th>2019-12-13</th>\n",
       "      <td>1.157111</td>\n",
       "      <td>1.182913</td>\n",
       "      <td>1.291172</td>\n",
       "      <td>1.159003</td>\n",
       "      <td>1.304510</td>\n",
       "      <td>5.944854e+07</td>\n",
       "      <td>0.008936</td>\n",
       "    </tr>\n",
       "    <tr>\n",
       "      <th>2019-12-28</th>\n",
       "      <td>NaN</td>\n",
       "      <td>NaN</td>\n",
       "      <td>NaN</td>\n",
       "      <td>NaN</td>\n",
       "      <td>NaN</td>\n",
       "      <td>NaN</td>\n",
       "      <td>NaN</td>\n",
       "    </tr>\n",
       "  </tbody>\n",
       "</table>\n",
       "<p>244 rows × 7 columns</p>\n",
       "</div>"
      ],
      "text/plain": [
       "            Adj Close     Close      High       Low      Open        Volume  \\\n",
       "Date                                                                          \n",
       "2010-01-04   0.078267  0.091958  0.072060  0.101749  0.080372  7.028347e+07   \n",
       "2010-01-19   0.227369  0.267141  0.253188  0.232856  0.234097  4.361002e+08   \n",
       "2010-02-03   0.113359  0.133188  0.102614  0.124059  0.123349  1.455474e+08   \n",
       "2010-02-18   0.137291  0.161306  0.138608  0.166270  0.157960  9.844200e+07   \n",
       "2010-03-05   0.074477  0.087505  0.088090  0.113449  0.129484  1.951401e+08   \n",
       "...               ...       ...       ...       ...       ...           ...   \n",
       "2019-10-29   1.748351  1.725581  1.449098  2.018594  1.418779  2.960150e+07   \n",
       "2019-11-13   0.516257  0.527773  0.404718  0.436709  0.509585  1.787058e+07   \n",
       "2019-11-28   0.977060  0.998849  1.019784  0.918851  0.936544  2.826525e+07   \n",
       "2019-12-13   1.157111  1.182913  1.291172  1.159003  1.304510  5.944854e+07   \n",
       "2019-12-28        NaN       NaN       NaN       NaN       NaN           NaN   \n",
       "\n",
       "            pct_change_close  \n",
       "Date                          \n",
       "2010-01-04          0.010383  \n",
       "2010-01-19          0.030046  \n",
       "2010-02-03          0.017088  \n",
       "2010-02-18          0.011254  \n",
       "2010-03-05          0.014002  \n",
       "...                      ...  \n",
       "2019-10-29          0.013412  \n",
       "2019-11-13          0.009868  \n",
       "2019-11-28          0.012526  \n",
       "2019-12-13          0.008936  \n",
       "2019-12-28               NaN  \n",
       "\n",
       "[244 rows x 7 columns]"
      ]
     },
     "execution_count": 94,
     "metadata": {},
     "output_type": "execute_result"
    }
   ],
   "source": [
    "# 15 days volatility\n",
    "(aapl\n",
    ".assign(pct_change_close=aapl.Close.pct_change())\n",
    ".resample('15D')\n",
    ".std()\n",
    ")"
   ]
  },
  {
   "cell_type": "code",
   "execution_count": 96,
   "id": "87648428",
   "metadata": {},
   "outputs": [
    {
     "data": {
      "text/html": [
       "<div>\n",
       "<style scoped>\n",
       "    .dataframe tbody tr th:only-of-type {\n",
       "        vertical-align: middle;\n",
       "    }\n",
       "\n",
       "    .dataframe tbody tr th {\n",
       "        vertical-align: top;\n",
       "    }\n",
       "\n",
       "    .dataframe thead th {\n",
       "        text-align: right;\n",
       "    }\n",
       "</style>\n",
       "<table border=\"1\" class=\"dataframe\">\n",
       "  <thead>\n",
       "    <tr style=\"text-align: right;\">\n",
       "      <th></th>\n",
       "      <th>Adj Close</th>\n",
       "      <th>Close</th>\n",
       "      <th>High</th>\n",
       "      <th>Low</th>\n",
       "      <th>Open</th>\n",
       "      <th>Volume</th>\n",
       "      <th>pct_change_close</th>\n",
       "    </tr>\n",
       "    <tr>\n",
       "      <th>Date</th>\n",
       "      <th></th>\n",
       "      <th></th>\n",
       "      <th></th>\n",
       "      <th></th>\n",
       "      <th></th>\n",
       "      <th></th>\n",
       "      <th></th>\n",
       "    </tr>\n",
       "  </thead>\n",
       "  <tbody>\n",
       "    <tr>\n",
       "      <th>2010-01-04</th>\n",
       "      <td>NaN</td>\n",
       "      <td>NaN</td>\n",
       "      <td>NaN</td>\n",
       "      <td>NaN</td>\n",
       "      <td>NaN</td>\n",
       "      <td>NaN</td>\n",
       "      <td>NaN</td>\n",
       "    </tr>\n",
       "    <tr>\n",
       "      <th>2010-01-05</th>\n",
       "      <td>NaN</td>\n",
       "      <td>NaN</td>\n",
       "      <td>NaN</td>\n",
       "      <td>NaN</td>\n",
       "      <td>NaN</td>\n",
       "      <td>NaN</td>\n",
       "      <td>NaN</td>\n",
       "    </tr>\n",
       "    <tr>\n",
       "      <th>2010-01-06</th>\n",
       "      <td>NaN</td>\n",
       "      <td>NaN</td>\n",
       "      <td>NaN</td>\n",
       "      <td>NaN</td>\n",
       "      <td>NaN</td>\n",
       "      <td>NaN</td>\n",
       "      <td>NaN</td>\n",
       "    </tr>\n",
       "    <tr>\n",
       "      <th>2010-01-07</th>\n",
       "      <td>NaN</td>\n",
       "      <td>NaN</td>\n",
       "      <td>NaN</td>\n",
       "      <td>NaN</td>\n",
       "      <td>NaN</td>\n",
       "      <td>NaN</td>\n",
       "      <td>NaN</td>\n",
       "    </tr>\n",
       "    <tr>\n",
       "      <th>2010-01-08</th>\n",
       "      <td>NaN</td>\n",
       "      <td>NaN</td>\n",
       "      <td>NaN</td>\n",
       "      <td>NaN</td>\n",
       "      <td>NaN</td>\n",
       "      <td>NaN</td>\n",
       "      <td>NaN</td>\n",
       "    </tr>\n",
       "    <tr>\n",
       "      <th>...</th>\n",
       "      <td>...</td>\n",
       "      <td>...</td>\n",
       "      <td>...</td>\n",
       "      <td>...</td>\n",
       "      <td>...</td>\n",
       "      <td>...</td>\n",
       "      <td>...</td>\n",
       "    </tr>\n",
       "    <tr>\n",
       "      <th>2019-12-23</th>\n",
       "      <td>1.847549</td>\n",
       "      <td>1.888754</td>\n",
       "      <td>1.932242</td>\n",
       "      <td>1.953716</td>\n",
       "      <td>1.906586</td>\n",
       "      <td>4.891036e+07</td>\n",
       "      <td>0.010997</td>\n",
       "    </tr>\n",
       "    <tr>\n",
       "      <th>2019-12-24</th>\n",
       "      <td>1.736153</td>\n",
       "      <td>1.774875</td>\n",
       "      <td>1.762143</td>\n",
       "      <td>1.842910</td>\n",
       "      <td>1.836871</td>\n",
       "      <td>5.206250e+07</td>\n",
       "      <td>0.009136</td>\n",
       "    </tr>\n",
       "    <tr>\n",
       "      <th>2019-12-26</th>\n",
       "      <td>1.757919</td>\n",
       "      <td>1.797126</td>\n",
       "      <td>1.757091</td>\n",
       "      <td>1.821097</td>\n",
       "      <td>1.758186</td>\n",
       "      <td>5.084715e+07</td>\n",
       "      <td>0.009786</td>\n",
       "    </tr>\n",
       "    <tr>\n",
       "      <th>2019-12-27</th>\n",
       "      <td>1.783318</td>\n",
       "      <td>1.823089</td>\n",
       "      <td>1.853292</td>\n",
       "      <td>1.865089</td>\n",
       "      <td>1.857616</td>\n",
       "      <td>5.015448e+07</td>\n",
       "      <td>0.009702</td>\n",
       "    </tr>\n",
       "    <tr>\n",
       "      <th>2019-12-30</th>\n",
       "      <td>1.897247</td>\n",
       "      <td>1.939563</td>\n",
       "      <td>1.937151</td>\n",
       "      <td>1.869659</td>\n",
       "      <td>1.901711</td>\n",
       "      <td>5.038528e+07</td>\n",
       "      <td>0.008965</td>\n",
       "    </tr>\n",
       "  </tbody>\n",
       "</table>\n",
       "<p>2515 rows × 7 columns</p>\n",
       "</div>"
      ],
      "text/plain": [
       "            Adj Close     Close      High       Low      Open        Volume  \\\n",
       "Date                                                                          \n",
       "2010-01-04        NaN       NaN       NaN       NaN       NaN           NaN   \n",
       "2010-01-05        NaN       NaN       NaN       NaN       NaN           NaN   \n",
       "2010-01-06        NaN       NaN       NaN       NaN       NaN           NaN   \n",
       "2010-01-07        NaN       NaN       NaN       NaN       NaN           NaN   \n",
       "2010-01-08        NaN       NaN       NaN       NaN       NaN           NaN   \n",
       "...               ...       ...       ...       ...       ...           ...   \n",
       "2019-12-23   1.847549  1.888754  1.932242  1.953716  1.906586  4.891036e+07   \n",
       "2019-12-24   1.736153  1.774875  1.762143  1.842910  1.836871  5.206250e+07   \n",
       "2019-12-26   1.757919  1.797126  1.757091  1.821097  1.758186  5.084715e+07   \n",
       "2019-12-27   1.783318  1.823089  1.853292  1.865089  1.857616  5.015448e+07   \n",
       "2019-12-30   1.897247  1.939563  1.937151  1.869659  1.901711  5.038528e+07   \n",
       "\n",
       "            pct_change_close  \n",
       "Date                          \n",
       "2010-01-04               NaN  \n",
       "2010-01-05               NaN  \n",
       "2010-01-06               NaN  \n",
       "2010-01-07               NaN  \n",
       "2010-01-08               NaN  \n",
       "...                      ...  \n",
       "2019-12-23          0.010997  \n",
       "2019-12-24          0.009136  \n",
       "2019-12-26          0.009786  \n",
       "2019-12-27          0.009702  \n",
       "2019-12-30          0.008965  \n",
       "\n",
       "[2515 rows x 7 columns]"
      ]
     },
     "execution_count": 96,
     "metadata": {},
     "output_type": "execute_result"
    }
   ],
   "source": [
    "# 15 days rolling volatility\n",
    "(aapl\n",
    ".assign(pct_change_close=aapl.Close.pct_change())\n",
    ".rolling(window=15,min_periods=15)\n",
    ".std()\n",
    ")"
   ]
  },
  {
   "cell_type": "code",
   "execution_count": 97,
   "id": "efadd218",
   "metadata": {},
   "outputs": [
    {
     "data": {
      "text/plain": [
       "<AxesSubplot:xlabel='Date'>"
      ]
     },
     "execution_count": 97,
     "metadata": {},
     "output_type": "execute_result"
    },
    {
     "data": {
      "image/png": "[encoded data removed]",
      "text/plain": [
       "<Figure size 432x288 with 1 Axes>"
      ]
     },
     "metadata": {
      "needs_background": "light"
     },
     "output_type": "display_data"
    }
   ],
   "source": [
    "# 15 days volatility\n",
    "#if column name conflicts with methods needs to use index access ([])\n",
    "(aapl\n",
    ".assign(pct_change_close=aapl.Close.pct_change())\n",
    ".rolling(window=15,min_periods=15)\n",
    ".std()\n",
    "['pct_change_close']\n",
    ".plot()\n",
    ")"
   ]
  },
  {
   "cell_type": "code",
   "execution_count": null,
   "id": "d517d8db",
   "metadata": {},
   "outputs": [],
   "source": [
    "# Challenge\n",
    "# Plot the rolling volatility over 30-day sliding windows for 2015-2019"
   ]
  },
  {
   "cell_type": "code",
   "execution_count": 100,
   "id": "a20c2d85",
   "metadata": {},
   "outputs": [
    {
     "data": {
      "text/plain": [
       "<AxesSubplot:xlabel='Date'>"
      ]
     },
     "execution_count": 100,
     "metadata": {},
     "output_type": "execute_result"
    },
    {
     "data": {
      "image/png": "[encoded data removed]",
      "text/plain": [
       "<Figure size 432x288 with 1 Axes>"
      ]
     },
     "metadata": {
      "needs_background": "light"
     },
     "output_type": "display_data"
    }
   ],
   "source": [
    "(aapl\n",
    ".assign(pct_change_close=aapl.Close.pct_change())\n",
    ".loc['2015':'2019']\n",
    ".rolling(window=30,min_periods=30)\n",
    ".std()\n",
    " ['pct_change_close']\n",
    ".plot()\n",
    ")"
   ]
  },
  {
   "cell_type": "code",
   "execution_count": null,
   "id": "d04b9683",
   "metadata": {},
   "outputs": [],
   "source": [
    "## Rolling "
   ]
  }
 ],
 "metadata": {
  "kernelspec": {
   "display_name": "Python 3 (ipykernel)",
   "language": "python",
   "name": "python3"
  },
  "language_info": {
   "codemirror_mode": {
    "name": "ipython",
    "version": 3
   },
   "file_extension": ".py",
   "mimetype": "text/x-python",
   "name": "python",
   "nbconvert_exporter": "python",
   "pygments_lexer": "ipython3",
   "version": "3.9.12"
  }
 },
 "nbformat": 4,
 "nbformat_minor": 5
}
